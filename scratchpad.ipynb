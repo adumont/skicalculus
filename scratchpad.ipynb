{
 "cells": [
  {
   "cell_type": "markdown",
   "metadata": {},
   "source": [
    "# SKI Combinator Calculus"
   ]
  },
  {
   "cell_type": "code",
   "execution_count": 1,
   "metadata": {},
   "outputs": [],
   "source": [
    "%load_ext autoreload\n",
    "%autoreload 2"
   ]
  },
  {
   "cell_type": "code",
   "execution_count": 2,
   "metadata": {},
   "outputs": [],
   "source": [
    "from ski import *"
   ]
  },
  {
   "cell_type": "code",
   "execution_count": 4,
   "metadata": {},
   "outputs": [
    {
     "data": {
      "text/plain": [
       "'S(K(SI))(S(KK))xy'"
      ]
     },
     "execution_count": 4,
     "metadata": {},
     "output_type": "execute_result"
    }
   ],
   "source": [
    "p = [ \"S\", [ \"K\", [\"S\", \"I\"]] , [\"S\", [\"K\", \"K\"]] , \"x\", \"y\"]\n",
    "exprToStr(p)"
   ]
  },
  {
   "cell_type": "code",
   "execution_count": 5,
   "metadata": {},
   "outputs": [
    {
     "name": "stdout",
     "output_type": "stream",
     "text": [
      "S(K(SI))(S(KK))xy\n"
     ]
    }
   ],
   "source": [
    "p_ski=SKI.from_list(p)\n",
    "print(p_ski)"
   ]
  },
  {
   "cell_type": "code",
   "execution_count": 6,
   "metadata": {},
   "outputs": [
    {
     "data": {
      "text/plain": [
       "['K', 'y']"
      ]
     },
     "execution_count": 6,
     "metadata": {},
     "output_type": "execute_result"
    }
   ],
   "source": [
    "expr=abstract(expr=[\"y\"], var=[\"x\", \"y\"])\n",
    "expr"
   ]
  },
  {
   "cell_type": "code",
   "execution_count": 7,
   "metadata": {},
   "outputs": [
    {
     "data": {
      "text/plain": [
       "['S', ['K', ['S', 'I']], ['S', ['K', 'K'], 'I']]"
      ]
     },
     "execution_count": 7,
     "metadata": {},
     "output_type": "execute_result"
    }
   ],
   "source": [
    "abstract(['S', 'I', ['K', 'x']], \"x\")"
   ]
  },
  {
   "cell_type": "code",
   "execution_count": 8,
   "metadata": {},
   "outputs": [
    {
     "data": {
      "text/plain": [
       "['S', 'I', ['K', 'x']]"
      ]
     },
     "execution_count": 8,
     "metadata": {},
     "output_type": "execute_result"
    }
   ],
   "source": [
    "# [\"y\", \"x\"] , [\"x\", \"y\"]\n",
    "\n",
    "abstract( [\"y\", \"x\"], \"y\")"
   ]
  },
  {
   "cell_type": "code",
   "execution_count": 9,
   "metadata": {},
   "outputs": [
    {
     "data": {
      "text/plain": [
       "'S(K(S(SI(KK))))(S(KK)I)'"
      ]
     },
     "execution_count": 9,
     "metadata": {},
     "output_type": "execute_result"
    }
   ],
   "source": [
    "exprToStr(abstract(['S', ['S', 'I', ['K', 'K']], ['K', 'x']], \"x\"))"
   ]
  },
  {
   "cell_type": "code",
   "execution_count": 10,
   "metadata": {},
   "outputs": [
    {
     "data": {
      "text/plain": [
       "['S', ['K', ['S', 'I']], ['S', ['K', 'K'], 'I']]"
      ]
     },
     "execution_count": 10,
     "metadata": {},
     "output_type": "execute_result"
    }
   ],
   "source": [
    "# SWAP: \\xy.yx   or Fxy=yx\n",
    "SKI_solve(expr=[\"y\", \"x\"], vars=[\"x\", \"y\"])"
   ]
  },
  {
   "cell_type": "code",
   "execution_count": 11,
   "metadata": {},
   "outputs": [
    {
     "data": {
      "text/plain": [
       "['K']"
      ]
     },
     "execution_count": 11,
     "metadata": {},
     "output_type": "execute_result"
    }
   ],
   "source": [
    "# TRUE: \\xy.x   or Fxy=x\n",
    "simplify(SKI_solve(expr=[\"x\"], vars=[\"x\", \"y\"]))"
   ]
  },
  {
   "cell_type": "code",
   "execution_count": 12,
   "metadata": {},
   "outputs": [
    {
     "data": {
      "text/plain": [
       "['K', 'I']"
      ]
     },
     "execution_count": 12,
     "metadata": {},
     "output_type": "execute_result"
    }
   ],
   "source": [
    "# FALSE: \\xy.y   or Fxy=y\n",
    "simplify(SKI_solve(expr=[\"y\"], vars=[\"x\", \"y\"]))"
   ]
  },
  {
   "cell_type": "markdown",
   "metadata": {},
   "source": [
    "## OR, AND, XOR,..."
   ]
  },
  {
   "cell_type": "code",
   "execution_count": 12,
   "metadata": {},
   "outputs": [
    {
     "name": "stdout",
     "output_type": "stream",
     "text": [
      "['S', ['S', ['K', 'S'], ['S', ['K', 'K'], ['S', ['K', 'S'], 'I']]], ['K', 'K']]\n",
      "S(S(KS)(S(KK)(S(KS)I)))(KK)\n",
      "K K ) I S K ) S )) K K ) S )) S K ) S )) S ))\n",
      "Reduced: fyx\n"
     ]
    }
   ],
   "source": [
    "# NOT: λfxy.fyx\n",
    "expr, vars=from_lambda(\"λfxy.fyx\")\n",
    "expr=simplify(expr)\n",
    "print(expr)\n",
    "print(exprToStr(expr))\n",
    "print(forth_ski(expr))\n",
    "print(\"Reduced:\",exprToStr(repeat_reduce(expr+vars)))"
   ]
  },
  {
   "cell_type": "code",
   "execution_count": 13,
   "metadata": {},
   "outputs": [
    {
     "name": "stdout",
     "output_type": "stream",
     "text": [
      "['S', ['S', ['K', 'S'], ['S', ['K', 'K'], ['S', 'I', 'I']]], ['K', 'I']]\n",
      "S(S(KS)(S(KK)(SII)))(KI)\n",
      "I K ) I I S )) K K ) S )) S K ) S )) S ))\n",
      "Reduced: ppq\n"
     ]
    }
   ],
   "source": [
    "# OR: λpq.ppq   or Fpq=ppq\n",
    "expr, vars=from_lambda(\"λpq.ppq\")\n",
    "expr=simplify(expr)\n",
    "print(expr)\n",
    "print(exprToStr(expr))\n",
    "print(forth_ski(expr))\n",
    "print(\"Reduced:\",exprToStr(repeat_reduce(expr+vars)))"
   ]
  },
  {
   "cell_type": "markdown",
   "metadata": {},
   "source": [
    "Now for `AND` let's use `from_lambda`, which takes a lambda abstraction and returns a SKI expression, which we print and also convert to FORTH."
   ]
  },
  {
   "cell_type": "code",
   "execution_count": 14,
   "metadata": {},
   "outputs": [
    {
     "name": "stdout",
     "output_type": "stream",
     "text": [
      "['S', ['S', ['K', 'S'], 'I'], 'K']\n",
      "S(S(KS)I)K\n",
      "K I S K ) S )) S ))\n",
      "Reduced: pqp\n"
     ]
    }
   ],
   "source": [
    "# AND: λpq.pqp   or Fpq=pqp\n",
    "expr, vars=from_lambda(\"λpq.pqp\")\n",
    "expr=simplify(expr)\n",
    "print(expr)\n",
    "print(exprToStr(expr))\n",
    "print(forth_ski(expr))\n",
    "print(\"Reduced:\",exprToStr(repeat_reduce(expr+vars)))"
   ]
  },
  {
   "cell_type": "code",
   "execution_count": 41,
   "metadata": {},
   "outputs": [
    {
     "name": "stdout",
     "output_type": "stream",
     "text": [
      "['S', ['S', ['K', 'S'], ['S', ['S', ['K', 'S'], 'K'], ['K', ['S', ['S', 'I', ['K', ['K', 'I']]], ['K', 'K']]]]], ['K', ['K', 'K']]]\n",
      "S(S(KS)(S(S(KS)K)(K(S(SI(K(KI)))(KK)))))(K(KK))\n",
      "K K ) K ) K K ) I K ) K ) I S )) S )) K ) K S K ) S )) S )) S K ) S )) S ))\n",
      "Reduced: p(q(KI)K)K\n"
     ]
    }
   ],
   "source": [
    "# NAND: λpq.p(q(KI)(K))K\n",
    "expr, vars=from_lambda(\"λpq.p(q(KI)K)K\")\n",
    "expr=simplify(expr)\n",
    "print(expr)\n",
    "print(exprToStr(expr))\n",
    "print(forth_ski(expr))\n",
    "print(\"Reduced:\",exprToStr(repeat_reduce(expr+vars)))"
   ]
  },
  {
   "cell_type": "markdown",
   "metadata": {},
   "source": [
    "Now `XOR`, which is also the `EQUALITY` combinator (boolean)"
   ]
  },
  {
   "cell_type": "code",
   "execution_count": 33,
   "metadata": {},
   "outputs": [
    {
     "name": "stdout",
     "output_type": "stream",
     "text": [
      "['S', ['S', ['K', 'S'], ['S', ['S', ['K', 'S'], 'K'], ['K', ['S', ['S', 'I', ['K', 'K']], ['K', ['K', 'I']]]]]], ['K', ['S', ['S', 'I', ['K', ['K', 'I']]], ['K', 'K']]]]\n",
      "S(S(KS)(S(S(KS)K)(K(S(SI(KK))(K(KI))))))(K(S(SI(K(KI)))(KK)))\n",
      "K K ) I K ) K ) I S )) S )) K ) I K ) K ) K K ) I S )) S )) K ) K S K ) S )) S )) S K ) S )) S ))\n",
      "Reduced: p(qK(KI))(q(KI)K)\n"
     ]
    }
   ],
   "source": [
    "# Derive XOR from the Lambda expression XORpq = λpq.p(q(K)(KI))(q(KI)(K))\n",
    "# XOR = EQUALITY combinator\n",
    "\n",
    "expr, vars=from_lambda(\"λpq.p(q(K)(KI))(q(KI)(K))\")\n",
    "expr=simplify(expr)\n",
    "print(expr)\n",
    "print(exprToStr(expr))\n",
    "print(forth_ski(expr))\n",
    "print(\"Reduced:\",exprToStr(repeat_reduce(expr+vars)))"
   ]
  },
  {
   "cell_type": "code",
   "execution_count": 30,
   "metadata": {},
   "outputs": [
    {
     "name": "stdout",
     "output_type": "stream",
     "text": [
      "Vars: ['n', 'f', 'x']\n",
      "From Lambda: ['S', ['K', ['S', ['S', ['K', 'S'], 'K']]], ['S', ['S', ['K', 'S'], ['S', ['K', ['S', ['K', 'S']]], ['S', ['K', ['S', ['K', 'K']]], ['S', ['S', ['K', 'S'], 'K'], ['K', 'I']]]]], ['K', ['K', 'I']]]]\n",
      "From Lambda: S(K(S(S(KS)K)))(S(S(KS)(S(K(S(KS)))(S(K(S(KK)))I)))(K(KI)))\n",
      "Forth: I K ) K ) I K K ) S ) K ) S )) S K ) S ) K ) S )) S K ) S )) S )) K S K ) S )) S ) K ) S ))\n",
      "Reduced: ['f', ['n', 'f', 'x']]\n"
     ]
    }
   ],
   "source": [
    "# SUCCessor : λnfx.f(nfx)     --> S(S(KS)K)\n",
    "\n",
    "expr, vars=from_lambda(\"λnfx.f(nfx)\")\n",
    "print(\"Vars:\", vars)\n",
    "\n",
    "print(\"From Lambda:\", expr)\n",
    "expr = simplify(expr)\n",
    "\n",
    "print(\"From Lambda:\", exprToStr(expr))\n",
    "\n",
    "print(\"Forth:\", forth_ski(expr))\n",
    "\n",
    "print(\"Reduced:\",repeat_reduce(expr+vars))"
   ]
  },
  {
   "cell_type": "markdown",
   "metadata": {},
   "source": [
    "    one = succ 0\n",
    "    add x y = x succ y\n",
    "    mul x y = x (add y) 0"
   ]
  },
  {
   "cell_type": "markdown",
   "metadata": {},
   "source": [
    "# Y Combinator"
   ]
  },
  {
   "cell_type": "code",
   "execution_count": 8,
   "metadata": {},
   "outputs": [
    {
     "data": {
      "text/plain": [
       "'I I S )) K ) K S K ) S )) S )) I I S )) K ) S ))'"
      ]
     },
     "execution_count": 8,
     "metadata": {},
     "output_type": "execute_result"
    }
   ],
   "source": [
    "Y_expr=\"S(K(SII))(S(S(KS)K)(K(SII)))\"\n",
    "y_ski=SKI.from_str(Y_expr)\n",
    "y_ski.to_forth()"
   ]
  },
  {
   "cell_type": "code",
   "execution_count": null,
   "metadata": {},
   "outputs": [],
   "source": []
  },
  {
   "cell_type": "markdown",
   "metadata": {},
   "source": [
    "# Looking for equalities (Simplifications)"
   ]
  },
  {
   "cell_type": "code",
   "execution_count": 142,
   "metadata": {},
   "outputs": [
    {
     "name": "stdout",
     "output_type": "stream",
     "text": [
      "['S', 'I', 'I', 'x']  -->  SIIx\n",
      "['I', 'x', ['I', 'x']]  -->  Ix(Ix)\n",
      "['x', ['I', 'x']]  -->  x(Ix)\n",
      "['x', 'x']  -->  xx\n"
     ]
    },
    {
     "data": {
      "text/plain": [
       "['x', 'x']"
      ]
     },
     "execution_count": 142,
     "metadata": {},
     "output_type": "execute_result"
    }
   ],
   "source": [
    "repeat_reduce(['S', 'I', 'I']+[\"x\"], verbose=True)"
   ]
  },
  {
   "cell_type": "code",
   "execution_count": 143,
   "metadata": {},
   "outputs": [
    {
     "name": "stdout",
     "output_type": "stream",
     "text": [
      "['S', ['S', ['K', 'S'], 'K'], ['K', 'I'], 'x', 'y']  -->  S(S(KS)K)(KI)xy\n",
      "['S', ['K', 'S'], 'K', 'x', ['K', 'I', 'x'], 'y']  -->  S(KS)Kx(KIx)y\n",
      "['K', 'S', 'x', ['K', 'x'], ['K', 'I', 'x'], 'y']  -->  KSx(Kx)(KIx)y\n",
      "['S', ['K', 'x'], ['K', 'I', 'x'], 'y']  -->  S(Kx)(KIx)y\n",
      "['K', 'x', 'y', ['K', 'I', 'x', 'y']]  -->  Kxy(KIxy)\n",
      "['x', ['K', 'I', 'x', 'y']]  -->  x(KIxy)\n",
      "['x', ['I', 'y']]  -->  x(Iy)\n",
      "['x', 'y']  -->  xy\n"
     ]
    },
    {
     "data": {
      "text/plain": [
       "['x', 'y']"
      ]
     },
     "execution_count": 143,
     "metadata": {},
     "output_type": "execute_result"
    }
   ],
   "source": [
    "repeat_reduce(['S', ['S', ['K', 'S'], 'K'], ['K', 'I']]+[\"x\", \"y\"], verbose=True)\n",
    "\n",
    "# = I ???"
   ]
  },
  {
   "cell_type": "code",
   "execution_count": 32,
   "metadata": {},
   "outputs": [
    {
     "name": "stdout",
     "output_type": "stream",
     "text": [
      "['S', ['K', ['S', ['K', 'K']]], 'I', 'x', 'y']  -->  S(K(S(KK)))Ixy\n",
      "['K', ['S', ['K', 'K']], 'x', ['I', 'x'], 'y']  -->  K(S(KK))x(Ix)y\n",
      "['S', ['K', 'K'], ['I', 'x'], 'y']  -->  S(KK)(Ix)y\n",
      "['K', 'K', 'y', ['I', 'x', 'y']]  -->  KKy(Ixy)\n",
      "['K', ['I', 'x', 'y']]  -->  K(Ixy)\n",
      "['K', ['x', 'y']]  -->  K(xy)\n"
     ]
    },
    {
     "data": {
      "text/plain": [
       "['K', ['x', 'y']]"
      ]
     },
     "execution_count": 32,
     "metadata": {},
     "output_type": "execute_result"
    }
   ],
   "source": [
    "repeat_reduce(clean([\"S\", [\"K\", [\"S\", [\"K\", \"K\"]]], [\"I\"]] + [\"x\", \"y\"]), verbose=True)"
   ]
  },
  {
   "cell_type": "code",
   "execution_count": 25,
   "metadata": {},
   "outputs": [
    {
     "name": "stdout",
     "output_type": "stream",
     "text": [
      "['S', ['K', ['S', ['K', 'S']]], 'x', 'y', 'z']  -->  S(K(S(KS)))xyz\n",
      "['K', ['S', ['K', 'S']], 'y', ['x', 'y'], 'z']  -->  K(S(KS))y(xy)z\n",
      "['S', ['K', 'S'], ['x', 'y'], 'z']  -->  S(KS)(xy)z\n",
      "['K', 'S', 'z', ['x', 'y', 'z']]  -->  KSz(xyz)\n",
      "['S', ['x', 'y', 'z']]  -->  S(xyz)\n"
     ]
    },
    {
     "data": {
      "text/plain": [
       "['S', ['x', 'y', 'z']]"
      ]
     },
     "execution_count": 25,
     "metadata": {},
     "output_type": "execute_result"
    }
   ],
   "source": [
    "# S(K(S(KS)))\n",
    "repeat_reduce(clean([\"S\", [\"K\", [\"S\", [\"K\", \"S\"]]]] + [\"x\", \"y\", \"z\"]), verbose=True)"
   ]
  },
  {
   "cell_type": "code",
   "execution_count": 15,
   "metadata": {},
   "outputs": [
    {
     "name": "stdout",
     "output_type": "stream",
     "text": [
      "['K', ['K', 'I'], 'x', 'y', 'z']  -->  K(KI)xyz\n",
      "['K', 'I', 'y', 'z']  -->  KIyz\n",
      "['I', 'z']  -->  Iz\n",
      "['z']  -->  z\n"
     ]
    },
    {
     "data": {
      "text/plain": [
       "['z']"
      ]
     },
     "execution_count": 15,
     "metadata": {},
     "output_type": "execute_result"
    }
   ],
   "source": [
    "repeat_reduce(['K', ['K', 'I']]+[\"x\", \"y\", \"z\"], verbose=True)"
   ]
  },
  {
   "cell_type": "code",
   "execution_count": 145,
   "metadata": {},
   "outputs": [
    {
     "name": "stdout",
     "output_type": "stream",
     "text": [
      "['S', ['K', ['S', ['K', 'K']]], 'a', 'b', 'c', 'd']  -->  S(K(S(KK)))abcd\n",
      "['K', ['S', ['K', 'K']], 'b', ['a', 'b'], 'c', 'd']  -->  K(S(KK))b(ab)cd\n",
      "['S', ['K', 'K'], ['a', 'b'], 'c', 'd']  -->  S(KK)(ab)cd\n",
      "['K', 'K', 'c', ['a', 'b', 'c'], 'd']  -->  KKc(abc)d\n",
      "['K', ['a', 'b', 'c'], 'd']  -->  K(abc)d\n",
      "['a', 'b', 'c']  -->  abc\n"
     ]
    },
    {
     "data": {
      "text/plain": [
       "['a', 'b', 'c']"
      ]
     },
     "execution_count": 145,
     "metadata": {},
     "output_type": "execute_result"
    }
   ],
   "source": [
    "repeat_reduce(  ['S', ['K', ['S', ['K', 'K']]] ]+[\"a\", \"b\", \"c\", \"d\"], verbose=True)"
   ]
  },
  {
   "cell_type": "markdown",
   "metadata": {},
   "source": [
    "# Stuff below is rubish? (until Validation)"
   ]
  },
  {
   "cell_type": "code",
   "execution_count": 10,
   "metadata": {},
   "outputs": [
    {
     "data": {
      "text/plain": [
       "['S',\n",
       " ['K', ['S', ['S', ['S', ['S', ['K', 'K'], 'I'], ['K', 'I']], ['K', 'K']]]],\n",
       " ['S', ['K', 'K'], 'I']]"
      ]
     },
     "execution_count": 10,
     "metadata": {},
     "output_type": "execute_result"
    }
   ],
   "source": [
    "SKI_solve([\"K\", \"y\", \"I\", \"K\", \"x\"], [\"x\", \"y\"])"
   ]
  },
  {
   "cell_type": "markdown",
   "metadata": {},
   "source": [
    "SUCC: S(S(KS)K)    --> K S K ) S )) S )\n",
    "\n",
    "SUM: S(KS)(S(K(S(KS)K))) -->   K S K ) S )) K ) S ) S K ) S ))  ;"
   ]
  },
  {
   "cell_type": "code",
   "execution_count": 21,
   "metadata": {},
   "outputs": [
    {
     "data": {
      "text/plain": [
       "['K', ['S', ['S', 'I', ['K', 'K']]], 'x', ['S', ['K', 'K'], 'I', 'x'], 'y']"
      ]
     },
     "execution_count": 21,
     "metadata": {},
     "output_type": "execute_result"
    }
   ],
   "source": [
    "clean([['K', ['S', ['S', 'I', ['K', 'K']]]], 'x', [['S', ['K', 'K'], 'I'], 'x'], 'y'])"
   ]
  },
  {
   "cell_type": "code",
   "execution_count": 24,
   "metadata": {},
   "outputs": [
    {
     "name": "stdout",
     "output_type": "stream",
     "text": [
      "['K', ['x', 'I', 'y']]\n",
      "K(xIy)\n"
     ]
    }
   ],
   "source": [
    "expr=['K', [\"K\",['x',\"I\",\"y\"],[\"y\", \"S\"]]]\n",
    "expr=reduce(expr)\n",
    "\n",
    "print(expr)\n",
    "print(exprToStr(expr))"
   ]
  },
  {
   "cell_type": "code",
   "execution_count": 25,
   "metadata": {},
   "outputs": [
    {
     "name": "stdout",
     "output_type": "stream",
     "text": [
      "['S', ['K', ['S', ['S', ['K', 'S'], ['S', ['S', ['K', 'S'], ['S', ['K', 'K'], 'I']], ['S', ['K', ['S', ['S', ['K', 'K'], 'I']]], ['S', ['K', 'K'], 'I']]]]]], ['S', ['K', 'K'], ['S', ['K', 'K'], 'I']], 'x', 'y', 'u']\n"
     ]
    }
   ],
   "source": [
    "expr = SKI_solve([\"y\", [\"K\",\"u\", \"y\"], \"x\"], [\"x\", \"y\",\"u\"])+[\"x\", \"y\", \"u\"]\n",
    "print(expr)"
   ]
  },
  {
   "cell_type": "code",
   "execution_count": 26,
   "metadata": {},
   "outputs": [
    {
     "name": "stdout",
     "output_type": "stream",
     "text": [
      "['y', 'u', 'x']\n"
     ]
    }
   ],
   "source": [
    "expr=reduce([\"y\", [\"K\",\"u\", \"y\"], \"x\"])\n",
    "print(expr)"
   ]
  },
  {
   "cell_type": "code",
   "execution_count": 74,
   "metadata": {},
   "outputs": [
    {
     "name": "stdout",
     "output_type": "stream",
     "text": [
      "['S', ['K', ['S', 'I']], 'K', 'x', 'y']\n",
      "['y', 'x']\n"
     ]
    }
   ],
   "source": [
    "# SWAP : \\xy.yx\n",
    "\n",
    "vars=[\"x\", \"y\"]\n",
    "expr = simplify(SKI_solve(expr=[\"y\", \"x\"],vars=vars) + vars)\n",
    "print(expr)\n",
    "\n",
    "expr = repeat_reduce(expr)\n",
    "print(expr)"
   ]
  },
  {
   "cell_type": "code",
   "execution_count": 71,
   "metadata": {},
   "outputs": [
    {
     "data": {
      "text/plain": [
       "['y', 'x', 'x', 'y']"
      ]
     },
     "execution_count": 71,
     "metadata": {},
     "output_type": "execute_result"
    }
   ],
   "source": [
    "repeat_reduce( [['S', ['K', ['S', 'I']], ['S', ['K', 'K'], 'I'], 'x', 'y'], 'x', 'y'] )"
   ]
  },
  {
   "cell_type": "code",
   "execution_count": null,
   "metadata": {},
   "outputs": [],
   "source": [
    "Simplification:\n",
    "\n",
    "'S', ['K', 'K'], 'I' --> = 'K'\n",
    "'S', 'K' --> 'K', 'I'\n",
    "\n",
    "(can only be substituted in the beginning of a LIST! not in the middle)"
   ]
  },
  {
   "cell_type": "code",
   "execution_count": 31,
   "metadata": {},
   "outputs": [
    {
     "data": {
      "text/plain": [
       "'S(K(SI))(S(KK)I)xy'"
      ]
     },
     "execution_count": 31,
     "metadata": {},
     "output_type": "execute_result"
    }
   ],
   "source": [
    "expr = SKI_solve(expr=[\"y\", \"x\"],vars=[\"x\", \"y\"])+[\"x\", \"y\"]\n",
    "exprToStr(expr)\n"
   ]
  },
  {
   "cell_type": "code",
   "execution_count": 34,
   "metadata": {},
   "outputs": [
    {
     "data": {
      "text/plain": [
       "'S(K(SI))Kxy'"
      ]
     },
     "execution_count": 34,
     "metadata": {},
     "output_type": "execute_result"
    }
   ],
   "source": [
    "expr=simplify(expr)\n",
    "exprToStr(expr)"
   ]
  },
  {
   "cell_type": "code",
   "execution_count": 35,
   "metadata": {},
   "outputs": [
    {
     "data": {
      "text/plain": [
       "'yx'"
      ]
     },
     "execution_count": 35,
     "metadata": {},
     "output_type": "execute_result"
    }
   ],
   "source": [
    "expr=repeat_reduce(expr)\n",
    "exprToStr(expr)"
   ]
  },
  {
   "cell_type": "code",
   "execution_count": 41,
   "metadata": {},
   "outputs": [
    {
     "data": {
      "text/plain": [
       "['S', ['K', 'S'], 'I']"
      ]
     },
     "execution_count": 41,
     "metadata": {},
     "output_type": "execute_result"
    }
   ],
   "source": [
    "parse(\"S(K(S))I\")"
   ]
  },
  {
   "cell_type": "code",
   "execution_count": 37,
   "metadata": {},
   "outputs": [
    {
     "name": "stdout",
     "output_type": "stream",
     "text": [
      "['S', ['S', ['K', 'S'], ['S', ['K', 'K'], ['S', ['K', 'S'], ['S', ['S', ['K', 'S'], ['S', ['K', 'K'], 'I']], ['K', 'I']]]]], ['K', ['S', ['K', 'K'], 'I']]]\n",
      "Derived   : ['S', ['S', ['K', 'S'], ['S', ['K', 'K'], ['S', ['K', 'S'], ['S', ['S', ['K', 'S'], ['S', ['K', 'K'], 'I']], ['K', 'I']]]]], ['K', ['S', ['K', 'K'], 'I']]]\n",
      "Simplified: S(S(KS)(S(KK)(S(KS)(S(S(KS)K)(KI)))))(KK)\n",
      "FORTH: K K ) I K ) K S K ) S )) S )) S K ) S )) K K ) S )) S K ) S )) S ))\n",
      "Reduced: ['x']\n"
     ]
    }
   ],
   "source": [
    "# Derive NOT from the Lambda expression NOT = \\fxy.fyx\n",
    "\n",
    "# \\vars.body:\n",
    "vars=[\"f\", \"x\", \"y\"]\n",
    "body=[\"f\", \"y\", \"x\"]\n",
    "\n",
    "expr = SKI_solve(vars=vars, expr=body)\n",
    "print(expr)\n",
    "\n",
    "print(\"Derived   :\", expr)\n",
    "\n",
    "expr=simplify(expr)\n",
    "print(\"Simplified:\", exprToStr(expr))\n",
    "print(\"FORTH:\", forth_ski(expr=expr))\n",
    "\n",
    "# expr = repeat_reduce(expr+vars)\n",
    "expr = repeat_reduce(expr+[[\"K\", \"I\"], \"x\", \"y\"])\n",
    "print(\"Reduced:\", expr)"
   ]
  },
  {
   "cell_type": "code",
   "execution_count": null,
   "metadata": {},
   "outputs": [],
   "source": [
    "\\fxy.fyx\n",
    "\n",
    "Apply NOT to TRUE:\n",
    "\n",
    "NOT(T)xy --> Tyx --> y  ie. Fxy\n",
    "NOT(F)xy --> Fyx --> x  ie. Txy"
   ]
  },
  {
   "cell_type": "code",
   "execution_count": 62,
   "metadata": {},
   "outputs": [
    {
     "name": "stdout",
     "output_type": "stream",
     "text": [
      "Derived   : ['S', ['S', ['K', 'S'], ['S', ['S', ['K', 'S'], ['S', ['K', 'K'], 'I']], ['K', ['S', ['S', 'I', ['K', 'K']], ['K', ['K', 'I']]]]]], ['K', ['S', ['S', 'I', ['K', ['K', 'I']]], ['K', 'K']]], 'p', 'q']\n",
      "S(S(KS)(S(S(KS)(S(KK)I))(K(S(SI(KK))(K(KI))))))(K(S(SI(K(KI)))(KK)))pq\n",
      "Simplified: ['S', ['S', ['K', 'S'], ['S', ['S', ['K', 'S'], 'K'], ['K', ['S', ['S', 'I', ['K', 'K']], ['K', ['K', 'I']]]]]], ['K', ['S', ['S', 'I', ['K', ['K', 'I']]], ['K', 'K']]], 'p', 'q']\n",
      "S(S(KS)(S(S(KS)K)(K(S(SI(KK))(K(KI))))))(K(S(SI(K(KI)))(KK)))pq\n",
      "['p', ['q', 'K', ['K', 'I']], ['q', ['K', 'I'], 'K']]\n",
      "p(qK(KI))(q(KI)K)\n"
     ]
    }
   ],
   "source": [
    "# Derive XOR from the Lambda expression XORpq = \\pq.p(q(K)(KI))(q(KI)(K))\n",
    "# XOR = EQUALITY combinator\n",
    "\n",
    "# \\vars.body:\n",
    "vars=parse(\"pq\")\n",
    "body=parse(\"p(q(K)(KI))(q(KI)(K))\")\n",
    "\n",
    "expr = SKI_solve(vars=vars, expr=body) + vars\n",
    "print(\"Derived   :\", expr)\n",
    "print(exprToStr(expr))\n",
    "\n",
    "expr=simplify(expr)\n",
    "print(\"Simplified:\",expr)\n",
    "print(exprToStr(expr))\n",
    "\n",
    "expr = repeat_reduce(expr)\n",
    "print(expr)\n",
    "print(exprToStr(expr))\n"
   ]
  },
  {
   "cell_type": "code",
   "execution_count": 18,
   "metadata": {},
   "outputs": [
    {
     "name": "stdout",
     "output_type": "stream",
     "text": [
      "Derived   : ['S', ['S', ['K', 'S'], ['S', ['S', ['K', 'S'], 'K'], ['K', ['S', ['S', 'I', ['K', ['K', 'I']]], ['K', 'K']]]]], ['K', ['K', 'K']], 'p', 'q']\n",
      "S(S(KS)(S(S(KS)K)(K(S(SI(K(KI)))(KK)))))(K(KK))pq\n",
      "Simplified: ['S', ['S', ['K', 'S'], ['S', ['S', ['K', 'S'], 'K'], ['K', ['S', ['S', 'I', ['K', ['K', 'I']]], ['K', 'K']]]]], ['K', ['K', 'K']], 'p', 'q']\n",
      "S(S(KS)(S(S(KS)K)(K(S(SI(K(KI)))(KK)))))(K(KK))pq\n",
      "['p', ['q', ['K', 'I'], 'K'], 'K']\n",
      "p(q(KI)K)K\n",
      "K K ) K ) K K ) I K ) K ) I S )) S )) K ) K S K ) S )) S )) S K ) S )) S ))\n"
     ]
    }
   ],
   "source": [
    "# NAND \n",
    "lambda_nand=\"λpq.p(q(KI)(K))K\"\n",
    "\n",
    "expr, v = from_lambda(lambda_nand)\n",
    "expr += v\n",
    "print(\"Derived   :\", expr)\n",
    "print(exprToStr(expr))\n",
    "\n",
    "expr=simplify(expr)\n",
    "print(\"Simplified:\",expr)\n",
    "print(exprToStr(expr))\n",
    "\n",
    "expr = repeat_reduce(expr)\n",
    "print(expr)\n",
    "print(exprToStr(expr))\n",
    "\n",
    "expr, v = from_lambda(lambda_nand)\n",
    "print(forth_ski(expr))"
   ]
  },
  {
   "cell_type": "markdown",
   "metadata": {},
   "source": [
    "## Validation..."
   ]
  },
  {
   "cell_type": "code",
   "execution_count": 60,
   "metadata": {},
   "outputs": [
    {
     "name": "stdout",
     "output_type": "stream",
     "text": [
      "0\n",
      "1\n",
      "2\n"
     ]
    }
   ],
   "source": [
    "I = lambda x: x\n",
    "K = lambda x: lambda y: x\n",
    "S = lambda x: lambda y: lambda z: x(z)(y(z))\n",
    "\n",
    "def from_c(n):\n",
    "  return n(lambda x: x+1)(0)\n",
    "\n",
    "def parse_ski(s):\n",
    "  stack = [I]\n",
    "  for c in s:\n",
    "    if c in 'SKI': stack[-1] = stack[-1](eval(c))\n",
    "    elif c == '(': stack.append(I)\n",
    "    elif c == ')': b = stack.pop(); a = stack.pop(); stack.append(a(b))\n",
    "  return stack[-1]\n",
    "\n",
    "# SKI expressions of Church 0, 1, 2\n",
    "print(from_c(parse_ski('KI')))\n",
    "print(from_c(parse_ski('I')))\n",
    "print(from_c(parse_ski('S(S(KS)K)I')))\n"
   ]
  },
  {
   "cell_type": "code",
   "execution_count": 69,
   "metadata": {},
   "outputs": [
    {
     "data": {
      "text/plain": [
       "False"
      ]
     },
     "execution_count": 69,
     "metadata": {},
     "output_type": "execute_result"
    }
   ],
   "source": [
    "def from_bool(b):\n",
    "  return b(lambda x: True)(lambda x: False)(0)\n",
    "\n",
    "# Equality\n",
    "\n",
    "from_bool(parse_ski(\"S(S(KS)(S(S(KS)K)(K(S(SI(KK))(K(KI))))))(K(S(SI(K(KI)))(KK)))(K)(KI)\"))"
   ]
  },
  {
   "cell_type": "markdown",
   "metadata": {},
   "source": [
    "https://tio.run/##jVFNa4NAEL37KwYvmQUbWnqzeBWWPepNJKxxpRKjy2ogH@S329nVapNSqAdn5r03n6svw2fXvo8jhwgaeSxKCecQzl5luuOu6LpmxYsQClw1qTkp9iOOZdMT8Mo8rz/U0Q187ofAA/AF2VU3exfqQlzyBzd7V1LhleGFfiyAu@eVqoJlOCxY6AEYNZxM@9/pXAktTa92NCj2rkQ/yP2Bds14TlHVGdhD3UJvOYC6msNDHU7S7OUtJ/niI1HZPmdOrhqXEEWwwc2csJVaq7ZE/kvCSFJ819rqTiP7APkMPBSRtDhbF1@mcKffnnQpB4U318hP6cLrtvQYLJiI@IngCxM9MgkmKBKGsxUMhfU5CsGsLzhz3wJPiKOZLXqnq9uTqrM29owZtUhTP7Amdiaeojj2IXcn16ZuB7QJhIdErm@@TmZpajGOXw"
   ]
  },
  {
   "cell_type": "code",
   "execution_count": 107,
   "metadata": {},
   "outputs": [
    {
     "name": "stdout",
     "output_type": "stream",
     "text": [
      "=TT : True\n",
      "=TF : False\n",
      "=FT : False\n",
      "=FF : True\n"
     ]
    }
   ],
   "source": [
    "I = lambda x: x\n",
    "from_bool = lambda b: b(lambda x: True)(lambda x: False)(0)\n",
    "\n",
    "ski={ \"I\": I, \"K\": lambda x: lambda y: x, \"S\": lambda x: lambda y: lambda z: x(z)(y(z)), }\n",
    "\n",
    "def parse_ski(s):\n",
    "  stack = [I]\n",
    "  for c in s:\n",
    "    if c in ski: stack[-1] = stack[-1](ski[c])\n",
    "    elif c == '(': stack.append(I)\n",
    "    elif c == ')': b = stack.pop(); a = stack.pop(); stack.append(a(b))\n",
    "  return stack[-1]\n",
    "\n",
    "ski.update({\n",
    "    \"T\": parse_ski(\"K\"),\n",
    "    \"F\": parse_ski(\"KI\"),\n",
    "    \"=\": parse_ski(\"S(S(KS)(S(S(KS)K)(K(S(SI(KK))(K(KI))))))(K(S(SI(K(KI)))(KK)))\"), # Equality / XOR\n",
    "    \"?\": parse_ski(\"S(S(KS)(S(S(KS)K)(K(S(SI(K(KI)))(KK)))))(K(KK))\"), # NAND\n",
    "})\n",
    "\n",
    "for expr in [ \"=TT\", \"=TF\", \"=FT\", \"=FF\" ]:\n",
    "   print(expr, \":\", from_bool(parse_ski(expr)))\n",
    "\n",
    "# for expr in [ \"?TT\", \"?TF\", \"?FT\", \"?FF\" ]:\n",
    "#    print(expr, \":\", from_bool(parse_ski(expr)))"
   ]
  },
  {
   "cell_type": "markdown",
   "metadata": {},
   "source": [
    "# SKI to FORTH's SKI\n",
    "\n",
    "    Successor: S(S(KS)K)    --> K S K ) S )) S )\n",
    "\n",
    "    SUM = S(KS)(S(K(S(KS)K)))\n",
    "\n",
    "    : SUM   K S K ) S )) K ) S ) S K ) S ))  ;"
   ]
  },
  {
   "cell_type": "code",
   "execution_count": 110,
   "metadata": {},
   "outputs": [
    {
     "data": {
      "text/plain": [
       "['S', ['K', 'S'], ['S', ['K', ['S', ['K', 'S'], 'K']]]]"
      ]
     },
     "execution_count": 110,
     "metadata": {},
     "output_type": "execute_result"
    }
   ],
   "source": [
    "expr=parse(\"S(KS)(S(K(S(KS)K)))\")\n",
    "expr"
   ]
  },
  {
   "cell_type": "code",
   "execution_count": 24,
   "metadata": {},
   "outputs": [
    {
     "data": {
      "text/plain": [
       "'K K ) I K ) K S K ) S )) S )) S K ) S )) K K ) S )) S K ) S )) S ))'"
      ]
     },
     "execution_count": 24,
     "metadata": {},
     "output_type": "execute_result"
    }
   ],
   "source": [
    "NOT=['S', ['S', ['K', 'S'], ['S', ['K', 'K'], ['S', ['K', 'S'], ['S', ['S', ['K', 'S'], 'K'], ['K', 'I']]]]], ['K', 'K']]\n",
    "\n",
    "forth_ski(NOT)"
   ]
  },
  {
   "cell_type": "markdown",
   "metadata": {},
   "source": [
    "# Object Oriented SKI"
   ]
  },
  {
   "cell_type": "code",
   "execution_count": 62,
   "metadata": {},
   "outputs": [
    {
     "data": {
      "text/plain": [
       "'SKK(SI)F'"
      ]
     },
     "execution_count": 62,
     "metadata": {},
     "output_type": "execute_result"
    }
   ],
   "source": [
    "S=SKI(\"SKK(SI)F\")\n",
    "str(S)"
   ]
  },
  {
   "cell_type": "code",
   "execution_count": 67,
   "metadata": {},
   "outputs": [
    {
     "data": {
      "text/plain": [
       "'I K )'"
      ]
     },
     "execution_count": 67,
     "metadata": {},
     "output_type": "execute_result"
    }
   ],
   "source": [
    "FALSE = SKI.from_list([\"K\", \"I\"])\n",
    "# FALSE = SKI.from_str(\"KIK\")\n",
    "FALSE.to_forth()"
   ]
  },
  {
   "cell_type": "code",
   "execution_count": 29,
   "metadata": {},
   "outputs": [
    {
     "name": "stdout",
     "output_type": "stream",
     "text": [
      "KISK\n"
     ]
    }
   ],
   "source": [
    "a = SKI(\"KI\")\n",
    "b = SKI(\"SK\")\n",
    "\n",
    "c = (a * b)\n",
    "print(c)"
   ]
  },
  {
   "cell_type": "markdown",
   "metadata": {},
   "source": [
    "Podriamos escribir cualquier funcion logica booleana\n",
    "\n",
    "por ejemplo AND: translate(lambda x,y : x & y)\n",
    "\n",
    "\n",
    "\n",
    "\n",
    "p( q( f(True, True)  )( f(True, False) ) )( q( f(False, True)  )( f(False, False) ) )"
   ]
  },
  {
   "cell_type": "code",
   "execution_count": 25,
   "metadata": {},
   "outputs": [
    {
     "data": {
      "text/plain": [
       "'KI'"
      ]
     },
     "execution_count": 25,
     "metadata": {},
     "output_type": "execute_result"
    }
   ],
   "source": [
    "f = lambda x,y : x & y\n",
    "\n",
    "\"K\" if f(True, False) else \"KI\""
   ]
  },
  {
   "cell_type": "code",
   "execution_count": null,
   "metadata": {},
   "outputs": [],
   "source": [
    "print(a+b)\n",
    "\n",
    "\n",
    "a+b"
   ]
  }
 ],
 "metadata": {
  "kernelspec": {
   "display_name": "AI39",
   "language": "python",
   "name": "python3"
  },
  "language_info": {
   "codemirror_mode": {
    "name": "ipython",
    "version": 3
   },
   "file_extension": ".py",
   "mimetype": "text/x-python",
   "name": "python",
   "nbconvert_exporter": "python",
   "pygments_lexer": "ipython3",
   "version": "3.10.11"
  },
  "orig_nbformat": 4
 },
 "nbformat": 4,
 "nbformat_minor": 2
}
