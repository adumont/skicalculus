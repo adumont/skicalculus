{
 "cells": [
  {
   "cell_type": "markdown",
   "metadata": {},
   "source": [
    "# SKI Combinator Calculus"
   ]
  },
  {
   "cell_type": "code",
   "execution_count": 1,
   "metadata": {},
   "outputs": [],
   "source": [
    "%load_ext autoreload\n",
    "%autoreload 2"
   ]
  },
  {
   "cell_type": "code",
   "execution_count": 2,
   "metadata": {},
   "outputs": [],
   "source": [
    "from ski import *"
   ]
  },
  {
   "cell_type": "code",
   "execution_count": 3,
   "metadata": {},
   "outputs": [
    {
     "data": {
      "text/plain": [
       "'S(K(SI))(S(KK))xy'"
      ]
     },
     "execution_count": 3,
     "metadata": {},
     "output_type": "execute_result"
    }
   ],
   "source": [
    "p = [ \"S\", [ \"K\", [\"S\", \"I\"]] , [\"S\", [\"K\", \"K\"]] , \"x\", \"y\"]\n",
    "exprToStr(p)"
   ]
  },
  {
   "cell_type": "code",
   "execution_count": 8,
   "metadata": {},
   "outputs": [
    {
     "data": {
      "text/plain": [
       "['S', 'I', ['K', 'x']]"
      ]
     },
     "execution_count": 8,
     "metadata": {},
     "output_type": "execute_result"
    }
   ],
   "source": [
    "abstract([\"y\", \"x\"], \"y\")"
   ]
  },
  {
   "cell_type": "code",
   "execution_count": 9,
   "metadata": {},
   "outputs": [
    {
     "data": {
      "text/plain": [
       "['S', ['K', ['S', 'I']], ['S', ['K', 'K'], 'I']]"
      ]
     },
     "execution_count": 9,
     "metadata": {},
     "output_type": "execute_result"
    }
   ],
   "source": [
    "abstract(['S', 'I', ['K', 'x']], \"x\")"
   ]
  },
  {
   "cell_type": "code",
   "execution_count": 10,
   "metadata": {},
   "outputs": [
    {
     "data": {
      "text/plain": [
       "['S', 'I', ['K', 'x']]"
      ]
     },
     "execution_count": 10,
     "metadata": {},
     "output_type": "execute_result"
    }
   ],
   "source": [
    "# [\"y\", \"x\"] , [\"x\", \"y\"]\n",
    "\n",
    "abstract( [\"y\", \"x\"], \"y\")"
   ]
  },
  {
   "cell_type": "code",
   "execution_count": 47,
   "metadata": {},
   "outputs": [
    {
     "data": {
      "text/plain": [
       "'S(K(S(SI(KK))))(S(KK)I)'"
      ]
     },
     "execution_count": 47,
     "metadata": {},
     "output_type": "execute_result"
    }
   ],
   "source": [
    "exprToStr(abstract(['S', ['S', 'I', ['K', 'K']], ['K', 'x']], \"x\"))"
   ]
  },
  {
   "cell_type": "code",
   "execution_count": 9,
   "metadata": {},
   "outputs": [
    {
     "data": {
      "text/plain": [
       "['S', ['K', ['S', 'I']], ['S', ['K', 'K'], 'I']]"
      ]
     },
     "execution_count": 9,
     "metadata": {},
     "output_type": "execute_result"
    }
   ],
   "source": [
    "# SWAP: \\xy.yx   or Fxy=yx\n",
    "SKI_solve(expr=[\"y\", \"x\"], vars=[\"x\", \"y\"])"
   ]
  },
  {
   "cell_type": "code",
   "execution_count": 10,
   "metadata": {},
   "outputs": [
    {
     "data": {
      "text/plain": [
       "['S',\n",
       " ['K', ['S', ['S', ['S', ['S', ['K', 'K'], 'I'], ['K', 'I']], ['K', 'K']]]],\n",
       " ['S', ['K', 'K'], 'I']]"
      ]
     },
     "execution_count": 10,
     "metadata": {},
     "output_type": "execute_result"
    }
   ],
   "source": [
    "SKI_solve([\"K\", \"y\", \"I\", \"K\", \"x\"], [\"x\", \"y\"])"
   ]
  },
  {
   "cell_type": "markdown",
   "metadata": {},
   "source": [
    "SUCC: S(S(KS)K)    --> K S K ) S )) S )\n",
    "\n",
    "SUM: S(KS)(S(K(S(KS)K))) -->   K S K ) S )) K ) S ) S K ) S ))  ;"
   ]
  },
  {
   "cell_type": "code",
   "execution_count": 21,
   "metadata": {},
   "outputs": [
    {
     "data": {
      "text/plain": [
       "['K', ['S', ['S', 'I', ['K', 'K']]], 'x', ['S', ['K', 'K'], 'I', 'x'], 'y']"
      ]
     },
     "execution_count": 21,
     "metadata": {},
     "output_type": "execute_result"
    }
   ],
   "source": [
    "clean([['K', ['S', ['S', 'I', ['K', 'K']]]], 'x', [['S', ['K', 'K'], 'I'], 'x'], 'y'])"
   ]
  },
  {
   "cell_type": "code",
   "execution_count": 24,
   "metadata": {},
   "outputs": [
    {
     "name": "stdout",
     "output_type": "stream",
     "text": [
      "['K', ['x', 'I', 'y']]\n",
      "K(xIy)\n"
     ]
    }
   ],
   "source": [
    "expr=['K', [\"K\",['x',\"I\",\"y\"],[\"y\", \"S\"]]]\n",
    "expr=reduce(expr)\n",
    "\n",
    "print(expr)\n",
    "print(exprToStr(expr))"
   ]
  },
  {
   "cell_type": "code",
   "execution_count": 25,
   "metadata": {},
   "outputs": [
    {
     "name": "stdout",
     "output_type": "stream",
     "text": [
      "['S', ['K', ['S', ['S', ['K', 'S'], ['S', ['S', ['K', 'S'], ['S', ['K', 'K'], 'I']], ['S', ['K', ['S', ['S', ['K', 'K'], 'I']]], ['S', ['K', 'K'], 'I']]]]]], ['S', ['K', 'K'], ['S', ['K', 'K'], 'I']], 'x', 'y', 'u']\n"
     ]
    }
   ],
   "source": [
    "expr = SKI_solve([\"y\", [\"K\",\"u\", \"y\"], \"x\"], [\"x\", \"y\",\"u\"])+[\"x\", \"y\", \"u\"]\n",
    "print(expr)"
   ]
  },
  {
   "cell_type": "code",
   "execution_count": 26,
   "metadata": {},
   "outputs": [
    {
     "name": "stdout",
     "output_type": "stream",
     "text": [
      "['y', 'u', 'x']\n"
     ]
    }
   ],
   "source": [
    "expr=reduce([\"y\", [\"K\",\"u\", \"y\"], \"x\"])\n",
    "print(expr)"
   ]
  },
  {
   "cell_type": "code",
   "execution_count": 28,
   "metadata": {},
   "outputs": [
    {
     "name": "stdout",
     "output_type": "stream",
     "text": [
      "['S', ['K', ['S', 'I']], ['S', ['K', 'K'], 'I'], 'x', 'y']\n",
      "['y', 'x']\n"
     ]
    }
   ],
   "source": [
    "# SWAP : \\xy.yx\n",
    "\n",
    "vars=[\"x\", \"y\"]\n",
    "expr = SKI_solve(expr=[\"y\", \"x\"],vars=[\"x\", \"y\"]) + vars\n",
    "print(expr)\n",
    "\n",
    "expr = repeat_reduce(expr)\n",
    "print(expr)"
   ]
  },
  {
   "cell_type": "code",
   "execution_count": 29,
   "metadata": {},
   "outputs": [
    {
     "data": {
      "text/plain": [
       "['x']"
      ]
     },
     "execution_count": 29,
     "metadata": {},
     "output_type": "execute_result"
    }
   ],
   "source": [
    "repeat_reduce( [['S', ['K', 'K'], 'I'], 'x', 'y'] )"
   ]
  },
  {
   "cell_type": "code",
   "execution_count": null,
   "metadata": {},
   "outputs": [],
   "source": [
    "Simplification:\n",
    "\n",
    "'S', ['K', 'K'], 'I' --> = 'K'\n",
    "'S', 'K' --> 'K', 'I'\n",
    "\n",
    "(can only be substituted in the beginning of a LIST! not in the middle)"
   ]
  },
  {
   "cell_type": "code",
   "execution_count": 31,
   "metadata": {},
   "outputs": [
    {
     "data": {
      "text/plain": [
       "'S(K(SI))(S(KK)I)xy'"
      ]
     },
     "execution_count": 31,
     "metadata": {},
     "output_type": "execute_result"
    }
   ],
   "source": [
    "expr = SKI_solve(expr=[\"y\", \"x\"],vars=[\"x\", \"y\"])+[\"x\", \"y\"]\n",
    "exprToStr(expr)\n"
   ]
  },
  {
   "cell_type": "code",
   "execution_count": 34,
   "metadata": {},
   "outputs": [
    {
     "data": {
      "text/plain": [
       "'S(K(SI))Kxy'"
      ]
     },
     "execution_count": 34,
     "metadata": {},
     "output_type": "execute_result"
    }
   ],
   "source": [
    "expr=simplify(expr)\n",
    "exprToStr(expr)"
   ]
  },
  {
   "cell_type": "code",
   "execution_count": 35,
   "metadata": {},
   "outputs": [
    {
     "data": {
      "text/plain": [
       "'yx'"
      ]
     },
     "execution_count": 35,
     "metadata": {},
     "output_type": "execute_result"
    }
   ],
   "source": [
    "expr=repeat_reduce(expr)\n",
    "exprToStr(expr)"
   ]
  },
  {
   "cell_type": "code",
   "execution_count": 41,
   "metadata": {},
   "outputs": [
    {
     "data": {
      "text/plain": [
       "['S', ['K', 'S'], 'I']"
      ]
     },
     "execution_count": 41,
     "metadata": {},
     "output_type": "execute_result"
    }
   ],
   "source": [
    "parse(\"S(K(S))I\")"
   ]
  },
  {
   "cell_type": "code",
   "execution_count": 29,
   "metadata": {},
   "outputs": [
    {
     "name": "stdout",
     "output_type": "stream",
     "text": [
      "['S', ['S', ['K', 'S'], ['S', ['K', 'K'], ['S', ['K', 'S'], ['S', ['S', ['K', 'S'], ['S', ['K', 'K'], 'I']], ['K', 'I']]]]], ['K', ['S', ['K', 'K'], 'I']], 'f', 'x', 'y']\n",
      "Derived   : ['S', ['S', ['K', 'S'], ['S', ['K', 'K'], ['S', ['K', 'S'], ['S', ['S', ['K', 'S'], ['S', ['K', 'K'], 'I']], ['K', 'I']]]]], ['K', ['S', ['K', 'K'], 'I']], 'f', 'x', 'y']\n",
      "Simplified: ['S', ['S', ['K', 'S'], ['S', ['K', 'K'], ['S', ['K', 'S'], ['S', ['S', ['K', 'S'], 'K'], ['K', 'I']]]]], ['K', 'K'], 'f', 'x', 'y']\n",
      "['f', 'y', 'x']\n"
     ]
    }
   ],
   "source": [
    "# Derive NOT from the Lambda expression NOT = \\fxy.fyx\n",
    "\n",
    "# \\vars.body:\n",
    "vars=[\"f\", \"x\", \"y\"]\n",
    "body=[\"f\",\"y\", \"x\"]\n",
    "\n",
    "expr = SKI_solve(vars=vars, expr=body)+vars\n",
    "print(expr)\n",
    "\n",
    "print(\"Derived   :\", expr)\n",
    "\n",
    "expr=simplify(expr)\n",
    "print(\"Simplified:\",expr)\n",
    "\n",
    "expr = repeat_reduce(expr)\n",
    "print(expr)"
   ]
  },
  {
   "cell_type": "code",
   "execution_count": 98,
   "metadata": {},
   "outputs": [],
   "source": []
  },
  {
   "cell_type": "code",
   "execution_count": 62,
   "metadata": {},
   "outputs": [
    {
     "name": "stdout",
     "output_type": "stream",
     "text": [
      "Derived   : ['S', ['S', ['K', 'S'], ['S', ['S', ['K', 'S'], ['S', ['K', 'K'], 'I']], ['K', ['S', ['S', 'I', ['K', 'K']], ['K', ['K', 'I']]]]]], ['K', ['S', ['S', 'I', ['K', ['K', 'I']]], ['K', 'K']]], 'p', 'q']\n",
      "S(S(KS)(S(S(KS)(S(KK)I))(K(S(SI(KK))(K(KI))))))(K(S(SI(K(KI)))(KK)))pq\n",
      "Simplified: ['S', ['S', ['K', 'S'], ['S', ['S', ['K', 'S'], 'K'], ['K', ['S', ['S', 'I', ['K', 'K']], ['K', ['K', 'I']]]]]], ['K', ['S', ['S', 'I', ['K', ['K', 'I']]], ['K', 'K']]], 'p', 'q']\n",
      "S(S(KS)(S(S(KS)K)(K(S(SI(KK))(K(KI))))))(K(S(SI(K(KI)))(KK)))pq\n",
      "['p', ['q', 'K', ['K', 'I']], ['q', ['K', 'I'], 'K']]\n",
      "p(qK(KI))(q(KI)K)\n"
     ]
    }
   ],
   "source": [
    "# Derive XOR from the Lambda expression XORpq = \\pq.p(q(K)(KI))(q(KI)(K))\n",
    "# XOR = EQUALITY combinator\n",
    "\n",
    "# \\vars.body:\n",
    "vars=parse(\"pq\")\n",
    "body=parse(\"p(q(K)(KI))(q(KI)(K))\")\n",
    "\n",
    "expr = SKI_solve(vars=vars, expr=body) + vars\n",
    "print(\"Derived   :\", expr)\n",
    "print(exprToStr(expr))\n",
    "\n",
    "expr=simplify(expr)\n",
    "print(\"Simplified:\",expr)\n",
    "print(exprToStr(expr))\n",
    "\n",
    "expr = repeat_reduce(expr)\n",
    "print(expr)\n",
    "print(exprToStr(expr))\n"
   ]
  },
  {
   "cell_type": "code",
   "execution_count": 65,
   "metadata": {},
   "outputs": [
    {
     "name": "stdout",
     "output_type": "stream",
     "text": [
      "Derived   : ['S', ['S', ['K', 'S'], ['S', ['S', ['K', 'S'], ['S', ['K', 'K'], 'I']], ['K', ['S', ['S', 'I', ['K', ['K', 'I']]], ['K', 'K']]]]], ['K', ['K', 'K']], 'p', 'q']\n",
      "S(S(KS)(S(S(KS)(S(KK)I))(K(S(SI(K(KI)))(KK)))))(K(KK))pq\n",
      "Simplified: ['S', ['S', ['K', 'S'], ['S', ['S', ['K', 'S'], 'K'], ['K', ['S', ['S', 'I', ['K', ['K', 'I']]], ['K', 'K']]]]], ['K', ['K', 'K']], 'p', 'q']\n",
      "S(S(KS)(S(S(KS)K)(K(S(SI(K(KI)))(KK)))))(K(KK))pq\n",
      "['p', ['q', ['K', 'I'], 'K'], 'K']\n",
      "p(q(KI)K)K\n"
     ]
    }
   ],
   "source": [
    "lambda_nand=\"\\pq.p(q(KI)(K))K\"\n",
    "\n",
    "expr, v = from_lambda(lambda_nand)\n",
    "expr += v\n",
    "print(\"Derived   :\", expr)\n",
    "print(exprToStr(expr))\n",
    "\n",
    "expr=simplify(expr)\n",
    "print(\"Simplified:\",expr)\n",
    "print(exprToStr(expr))\n",
    "\n",
    "expr = repeat_reduce(expr)\n",
    "print(expr)\n",
    "print(exprToStr(expr))"
   ]
  },
  {
   "cell_type": "markdown",
   "metadata": {},
   "source": [
    "## Validation..."
   ]
  },
  {
   "cell_type": "code",
   "execution_count": 60,
   "metadata": {},
   "outputs": [
    {
     "name": "stdout",
     "output_type": "stream",
     "text": [
      "0\n",
      "1\n",
      "2\n"
     ]
    }
   ],
   "source": [
    "I = lambda x: x\n",
    "K = lambda x: lambda y: x\n",
    "S = lambda x: lambda y: lambda z: x(z)(y(z))\n",
    "\n",
    "def from_c(n):\n",
    "  return n(lambda x: x+1)(0)\n",
    "\n",
    "def parse_ski(s):\n",
    "  stack = [I]\n",
    "  for c in s:\n",
    "    if c in 'SKI': stack[-1] = stack[-1](eval(c))\n",
    "    elif c == '(': stack.append(I)\n",
    "    elif c == ')': b = stack.pop(); a = stack.pop(); stack.append(a(b))\n",
    "  return stack[-1]\n",
    "\n",
    "# SKI expressions of Church 0, 1, 2\n",
    "print(from_c(parse_ski('KI')))\n",
    "print(from_c(parse_ski('I')))\n",
    "print(from_c(parse_ski('S(S(KS)K)I')))\n"
   ]
  },
  {
   "cell_type": "code",
   "execution_count": 69,
   "metadata": {},
   "outputs": [
    {
     "data": {
      "text/plain": [
       "False"
      ]
     },
     "execution_count": 69,
     "metadata": {},
     "output_type": "execute_result"
    }
   ],
   "source": [
    "def from_bool(b):\n",
    "  return b(lambda x: True)(lambda x: False)(0)\n",
    "\n",
    "# Equality\n",
    "\n",
    "from_bool(parse_ski(\"S(S(KS)(S(S(KS)K)(K(S(SI(KK))(K(KI))))))(K(S(SI(K(KI)))(KK)))(K)(KI)\"))"
   ]
  },
  {
   "cell_type": "markdown",
   "metadata": {},
   "source": [
    "https://tio.run/##jVFNa4NAEL37KwYvmQUbWnqzeBWWPepNJKxxpRKjy2ogH@S329nVapNSqAdn5r03n6svw2fXvo8jhwgaeSxKCecQzl5luuOu6LpmxYsQClw1qTkp9iOOZdMT8Mo8rz/U0Q187ofAA/AF2VU3exfqQlzyBzd7V1LhleGFfiyAu@eVqoJlOCxY6AEYNZxM@9/pXAktTa92NCj2rkQ/yP2Bds14TlHVGdhD3UJvOYC6msNDHU7S7OUtJ/niI1HZPmdOrhqXEEWwwc2csJVaq7ZE/kvCSFJ819rqTiP7APkMPBSRtDhbF1@mcKffnnQpB4U318hP6cLrtvQYLJiI@IngCxM9MgkmKBKGsxUMhfU5CsGsLzhz3wJPiKOZLXqnq9uTqrM29owZtUhTP7Amdiaeojj2IXcn16ZuB7QJhIdErm@@TmZpajGOXw"
   ]
  },
  {
   "cell_type": "code",
   "execution_count": 107,
   "metadata": {},
   "outputs": [
    {
     "name": "stdout",
     "output_type": "stream",
     "text": [
      "=TT : True\n",
      "=TF : False\n",
      "=FT : False\n",
      "=FF : True\n"
     ]
    }
   ],
   "source": [
    "I = lambda x: x\n",
    "from_bool = lambda b: b(lambda x: True)(lambda x: False)(0)\n",
    "\n",
    "ski={ \"I\": I, \"K\": lambda x: lambda y: x, \"S\": lambda x: lambda y: lambda z: x(z)(y(z)), }\n",
    "\n",
    "def parse_ski(s):\n",
    "  stack = [I]\n",
    "  for c in s:\n",
    "    if c in ski: stack[-1] = stack[-1](ski[c])\n",
    "    elif c == '(': stack.append(I)\n",
    "    elif c == ')': b = stack.pop(); a = stack.pop(); stack.append(a(b))\n",
    "  return stack[-1]\n",
    "\n",
    "ski.update({\n",
    "    \"T\": parse_ski(\"K\"),\n",
    "    \"F\": parse_ski(\"KI\"),\n",
    "    \"=\": parse_ski(\"S(S(KS)(S(S(KS)K)(K(S(SI(KK))(K(KI))))))(K(S(SI(K(KI)))(KK)))\"), # Equality / XOR\n",
    "    \"?\": parse_ski(\"S(S(KS)(S(S(KS)K)(K(S(SI(K(KI)))(KK)))))(K(KK))\"), # NAND\n",
    "})\n",
    "\n",
    "for expr in [ \"=TT\", \"=TF\", \"=FT\", \"=FF\" ]:\n",
    "   print(expr, \":\", from_bool(parse_ski(expr)))\n",
    "\n",
    "# for expr in [ \"?TT\", \"?TF\", \"?FT\", \"?FF\" ]:\n",
    "#    print(expr, \":\", from_bool(parse_ski(expr)))"
   ]
  },
  {
   "cell_type": "markdown",
   "metadata": {},
   "source": [
    "# SKI to FORTH's SKI\n",
    "\n",
    "    Successor: S(S(KS)K)    --> K S K ) S )) S )\n",
    "\n",
    "    SUM = S(KS)(S(K(S(KS)K)))\n",
    "\n",
    "    : SUM   K S K ) S )) K ) S ) S K ) S ))  ;"
   ]
  },
  {
   "cell_type": "code",
   "execution_count": 110,
   "metadata": {},
   "outputs": [
    {
     "data": {
      "text/plain": [
       "['S', ['K', 'S'], ['S', ['K', ['S', ['K', 'S'], 'K']]]]"
      ]
     },
     "execution_count": 110,
     "metadata": {},
     "output_type": "execute_result"
    }
   ],
   "source": [
    "expr=parse(\"S(KS)(S(K(S(KS)K)))\")\n",
    "expr"
   ]
  },
  {
   "cell_type": "code",
   "execution_count": 24,
   "metadata": {},
   "outputs": [
    {
     "data": {
      "text/plain": [
       "'K K ) I K ) K S K ) S )) S )) S K ) S )) K K ) S )) S K ) S )) S ))'"
      ]
     },
     "execution_count": 24,
     "metadata": {},
     "output_type": "execute_result"
    }
   ],
   "source": [
    "NOT=['S', ['S', ['K', 'S'], ['S', ['K', 'K'], ['S', ['K', 'S'], ['S', ['S', ['K', 'S'], 'K'], ['K', 'I']]]]], ['K', 'K']]\n",
    "\n",
    "forth_ski(NOT)"
   ]
  },
  {
   "cell_type": "markdown",
   "metadata": {},
   "source": [
    "# Object Oriented SKI"
   ]
  },
  {
   "cell_type": "code",
   "execution_count": 62,
   "metadata": {},
   "outputs": [
    {
     "data": {
      "text/plain": [
       "'SKK(SI)F'"
      ]
     },
     "execution_count": 62,
     "metadata": {},
     "output_type": "execute_result"
    }
   ],
   "source": [
    "S=SKI(\"SKK(SI)F\")\n",
    "str(S)"
   ]
  },
  {
   "cell_type": "code",
   "execution_count": 67,
   "metadata": {},
   "outputs": [
    {
     "data": {
      "text/plain": [
       "'I K )'"
      ]
     },
     "execution_count": 67,
     "metadata": {},
     "output_type": "execute_result"
    }
   ],
   "source": [
    "FALSE = SKI.from_list([\"K\", \"I\"])\n",
    "# FALSE = SKI.from_str(\"KIK\")\n",
    "FALSE.to_forth()"
   ]
  },
  {
   "cell_type": "code",
   "execution_count": 39,
   "metadata": {},
   "outputs": [
    {
     "name": "stdout",
     "output_type": "stream",
     "text": [
      "[Alex][Dumont]\n"
     ]
    }
   ],
   "source": [
    "alex = Person(\"Alex\", \"Dumont\")\n",
    "print(alex)"
   ]
  },
  {
   "cell_type": "code",
   "execution_count": 40,
   "metadata": {},
   "outputs": [
    {
     "ename": "TypeError",
     "evalue": "Person.__init__() missing 2 required positional arguments: 'firstname' and 'lastname'",
     "output_type": "error",
     "traceback": [
      "\u001b[0;31m---------------------------------------------------------------------------\u001b[0m",
      "\u001b[0;31mTypeError\u001b[0m                                 Traceback (most recent call last)",
      "\u001b[1;32m/home/adumont/projects/skicalculus/scratchpad.ipynb Cell 40\u001b[0m line \u001b[0;36m1\n\u001b[0;32m----> <a href='vscode-notebook-cell://wsl%2Bubuntu-22.04/home/adumont/projects/skicalculus/scratchpad.ipynb#X55sdnNjb2RlLXJlbW90ZQ%3D%3D?line=0'>1</a>\u001b[0m yo \u001b[39m=\u001b[39m Person\u001b[39m.\u001b[39;49mfrom_fullname(\u001b[39m\"\u001b[39;49m\u001b[39mAlexandre Dumont\u001b[39;49m\u001b[39m\"\u001b[39;49m)\n\u001b[1;32m      <a href='vscode-notebook-cell://wsl%2Bubuntu-22.04/home/adumont/projects/skicalculus/scratchpad.ipynb#X55sdnNjb2RlLXJlbW90ZQ%3D%3D?line=1'>2</a>\u001b[0m \u001b[39mprint\u001b[39m(yo)\n",
      "\u001b[1;32m/home/adumont/projects/skicalculus/scratchpad.ipynb Cell 40\u001b[0m line \u001b[0;36m1\n\u001b[1;32m     <a href='vscode-notebook-cell://wsl%2Bubuntu-22.04/home/adumont/projects/skicalculus/scratchpad.ipynb#X55sdnNjb2RlLXJlbW90ZQ%3D%3D?line=11'>12</a>\u001b[0m \u001b[39m@classmethod\u001b[39m\n\u001b[1;32m     <a href='vscode-notebook-cell://wsl%2Bubuntu-22.04/home/adumont/projects/skicalculus/scratchpad.ipynb#X55sdnNjb2RlLXJlbW90ZQ%3D%3D?line=12'>13</a>\u001b[0m \u001b[39mdef\u001b[39;00m \u001b[39mfrom_fullname\u001b[39m(\u001b[39mcls\u001b[39m, fullname):\n\u001b[1;32m     <a href='vscode-notebook-cell://wsl%2Bubuntu-22.04/home/adumont/projects/skicalculus/scratchpad.ipynb#X55sdnNjb2RlLXJlbW90ZQ%3D%3D?line=13'>14</a>\u001b[0m     \u001b[39mcls\u001b[39m\u001b[39m.\u001b[39mfirstname, \u001b[39mcls\u001b[39m\u001b[39m.\u001b[39mlastname \u001b[39m=\u001b[39m fullname\u001b[39m.\u001b[39msplit(\u001b[39m\"\u001b[39m\u001b[39m \u001b[39m\u001b[39m\"\u001b[39m, \u001b[39m1\u001b[39m)\n\u001b[0;32m---> <a href='vscode-notebook-cell://wsl%2Bubuntu-22.04/home/adumont/projects/skicalculus/scratchpad.ipynb#X55sdnNjb2RlLXJlbW90ZQ%3D%3D?line=14'>15</a>\u001b[0m     \u001b[39mreturn\u001b[39;00m \u001b[39mcls\u001b[39;49m()\n",
      "\u001b[0;31mTypeError\u001b[0m: Person.__init__() missing 2 required positional arguments: 'firstname' and 'lastname'"
     ]
    }
   ],
   "source": [
    "yo = Person.from_fullname(\"Alexandre Dumont\")\n",
    "print(yo)"
   ]
  },
  {
   "cell_type": "code",
   "execution_count": null,
   "metadata": {},
   "outputs": [],
   "source": []
  }
 ],
 "metadata": {
  "kernelspec": {
   "display_name": "AI39",
   "language": "python",
   "name": "python3"
  },
  "language_info": {
   "codemirror_mode": {
    "name": "ipython",
    "version": 3
   },
   "file_extension": ".py",
   "mimetype": "text/x-python",
   "name": "python",
   "nbconvert_exporter": "python",
   "pygments_lexer": "ipython3",
   "version": "3.10.11"
  },
  "orig_nbformat": 4
 },
 "nbformat": 4,
 "nbformat_minor": 2
}
